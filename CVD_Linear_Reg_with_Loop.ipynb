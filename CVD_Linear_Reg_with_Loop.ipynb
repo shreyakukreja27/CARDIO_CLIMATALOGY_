{
  "cells": [
    {
      "cell_type": "code",
      "execution_count": null,
      "id": "c5734040",
      "metadata": {
        "id": "c5734040"
      },
      "outputs": [],
      "source": [
        "import warnings\n",
        "\n",
        "# Set the warning filter\n",
        "warnings.filterwarnings(\"ignore\")\n",
        "\n",
        "# Your code goes here\n",
        "\n",
        "\n",
        "import pandas as pd\n",
        "import numpy as np\n",
        "import pandas as pd\n",
        "\n",
        "\n",
        "df=pd.read_csv('CVD_Data_ (1).csv')\n",
        "pred_df=pd.DataFrame({\"Year\":[\"2023\",\"2024\",\"2025\"]})"
      ]
    },
    {
      "cell_type": "code",
      "execution_count": null,
      "id": "7c6b753f",
      "metadata": {
        "id": "7c6b753f"
      },
      "outputs": [],
      "source": [
        "import pandas as pd\n",
        "from sklearn.model_selection import train_test_split\n",
        "from sklearn.linear_model import LinearRegression\n",
        "final_df=pd.DataFrame()\n",
        "pred_df=pd.DataFrame({\"Year\":[\"2023\",\"2024\",\"2025\"]})\n",
        "for state in df['State'].unique():\n",
        "    df1=df[df['State']== state]\n",
        "    list1=list(df1[[ 'Climate_Change_Disasters',\n",
        "       'Min_Temp', 'Max_Temp', 'PM2.5', 'Health_Quotient', 'HDI',\n",
        "       'Rural_Poppulation', 'Urban_Poppulation']].columns)\n",
        "\n",
        "\n",
        "#     pred_df=pd.DataFrame({\"Year\":[\"2023\",\"2024\",\"2025\"]})\n",
        "    # Split the DataFrame into a training set and a test set\n",
        "    train = df1[['Year','Climate_Change_Disasters','Min_Temp','Max_Temp','PM2.5','Health_Quotient','HDI','Rural_Poppulation','Urban_Poppulation']]\n",
        "    test = pred_df\n",
        "    \n",
        "#     Create the linear regression model\n",
        "    model = LinearRegression()\n",
        "    \n",
        "    for feature in list1:\n",
        "\n",
        "        # Train the model on the training set\n",
        "        model.fit(train[['Year']], train[feature])\n",
        "\n",
        "        # Predict the values for the test set\n",
        "        predictions = model.predict(test[['Year']])\n",
        "        prediction_df=pd.DataFrame(predictions)\n",
        "        prediction_df.rename(columns={0: f'{feature}'}, inplace=True)\n",
        "        final_df=final_df.append(prediction_df)\n",
        "        \n",
        "\n",
        "\n",
        "\n",
        "#     Print the predicted values\n",
        "        \n",
        "folder_path = \"C:\\\\Users\\\\DELL\\\\OneDrive\\\\Desktop\\\\CVD1\\\\\"\n",
        "filename = 'Linear_Reg_Results.xlsx'\n",
        "final_df.to_excel(folder_path + filename, index=False)\n",
        "\n",
        "\n",
        "\n"
      ]
    }
  ],
  "metadata": {
    "kernelspec": {
      "display_name": "Python 3 (ipykernel)",
      "language": "python",
      "name": "python3"
    },
    "language_info": {
      "codemirror_mode": {
        "name": "ipython",
        "version": 3
      },
      "file_extension": ".py",
      "mimetype": "text/x-python",
      "name": "python",
      "nbconvert_exporter": "python",
      "pygments_lexer": "ipython3",
      "version": "3.9.12"
    },
    "colab": {
      "provenance": []
    }
  },
  "nbformat": 4,
  "nbformat_minor": 5
}