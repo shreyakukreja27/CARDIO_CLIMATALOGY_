{
  "nbformat": 4,
  "nbformat_minor": 0,
  "metadata": {
    "colab": {
      "provenance": []
    },
    "kernelspec": {
      "name": "python3",
      "display_name": "Python 3"
    },
    "language_info": {
      "name": "python"
    }
  },
  "cells": [
    {
      "cell_type": "markdown",
      "source": [
        "Model for max urban CVD"
      ],
      "metadata": {
        "id": "MzWpqEHuTsrX"
      }
    },
    {
      "cell_type": "code",
      "source": [
        "import pandas as pd\n",
        "import numpy as np\n",
        "\n",
        "df=pd.read_csv(\"CVD_Data_ (1).csv\")\n",
        "dff=pd.read_excel(\"CVD_linearRegression.xlsx\")"
      ],
      "metadata": {
        "id": "5nZepVOrT-tp"
      },
      "execution_count": 1,
      "outputs": []
    },
    {
      "cell_type": "code",
      "source": [
        "df.dropna()"
      ],
      "metadata": {
        "colab": {
          "base_uri": "https://localhost:8080/",
          "height": 574
        },
        "id": "C44XDh28UdbQ",
        "outputId": "588f602a-873a-4b04-beaa-92940aa041a7"
      },
      "execution_count": 2,
      "outputs": [
        {
          "output_type": "execute_result",
          "data": {
            "text/plain": [
              "              State  Year  Climate_Change_Disasters  Min_Temp  Max_Temp  \\\n",
              "0    Andhra Pradesh  2015                         2     22.33     31.42   \n",
              "1    Andhra Pradesh  2016                         2     22.33     31.50   \n",
              "2    Andhra Pradesh  2017                         1     23.25     31.67   \n",
              "3    Andhra Pradesh  2018                         0     24.92     36.70   \n",
              "4    Andhra Pradesh  2019                         1     24.00     32.50   \n",
              "..              ...   ...                       ...       ...       ...   \n",
              "259      Puducherry  2018                         0     26.92     31.00   \n",
              "260      Puducherry  2019                         0     26.75     30.75   \n",
              "261      Puducherry  2020                         1     26.00     30.50   \n",
              "262      Puducherry  2021                         1     25.33     30.75   \n",
              "263      Puducherry  2022                         0     25.03     30.75   \n",
              "\n",
              "     Average_Temp  PM2.5  Health_Quotient    HDI  Rural_Poppulation  \\\n",
              "0           26.88   28.6            57.75  0.627       3.395143e+07   \n",
              "1           26.92   28.9            60.16  0.633       3.425798e+07   \n",
              "2           27.46   31.9            65.13  0.644       3.456110e+07   \n",
              "3           30.81   31.8            64.17  0.646       3.486079e+07   \n",
              "4           28.25   29.0            68.88  0.649       3.515703e+07   \n",
              "..            ...    ...              ...    ...                ...   \n",
              "259         28.96   29.8            49.26  0.736       4.921597e+05   \n",
              "260         28.75   27.5            46.54  0.740       5.065981e+05   \n",
              "261         28.25   26.1            47.48  0.743       5.211628e+05   \n",
              "262         28.04   28.7            44.76  0.748       5.358466e+05   \n",
              "263         27.89   37.0            42.04  0.751       5.383900e+05   \n",
              "\n",
              "     Min_Rural_CVD  Max_Rural_CVD  Urban_Poppulation  Min_Urban_CVD  \\\n",
              "0       541266.571    2503357.892       1.699610e+07     169960.964   \n",
              "1       546153.572    2525960.268       1.714955e+07     171495.512   \n",
              "2       550986.070    2548310.572       1.730129e+07     173012.945   \n",
              "3       555763.819    2570407.663       1.745132e+07     174513.187   \n",
              "4       560486.623    2592250.630       1.759962e+07     175996.176   \n",
              "..             ...            ...                ...            ...   \n",
              "259       7874.555      36419.819       1.061865e+06      10618.653   \n",
              "260       8105.569      37488.257       1.093017e+06      10930.169   \n",
              "261       8338.605      38566.046       1.124441e+06      11244.412   \n",
              "262       8573.545      39652.647       1.156122e+06      11561.224   \n",
              "263       8614.240      39840.860       1.161610e+06      11616.100   \n",
              "\n",
              "     Max_Urban_CVD  \n",
              "0      2243484.725  \n",
              "1      2263740.752  \n",
              "2      2283770.875  \n",
              "3      2303574.070  \n",
              "4      2323149.522  \n",
              "..             ...  \n",
              "259     140166.217  \n",
              "260     144278.235  \n",
              "261     148426.240  \n",
              "262     152608.159  \n",
              "263     153332.520  \n",
              "\n",
              "[264 rows x 15 columns]"
            ],
            "text/html": [
              "\n",
              "  <div id=\"df-8353ced2-b40d-4b49-8280-abff3914e6d4\">\n",
              "    <div class=\"colab-df-container\">\n",
              "      <div>\n",
              "<style scoped>\n",
              "    .dataframe tbody tr th:only-of-type {\n",
              "        vertical-align: middle;\n",
              "    }\n",
              "\n",
              "    .dataframe tbody tr th {\n",
              "        vertical-align: top;\n",
              "    }\n",
              "\n",
              "    .dataframe thead th {\n",
              "        text-align: right;\n",
              "    }\n",
              "</style>\n",
              "<table border=\"1\" class=\"dataframe\">\n",
              "  <thead>\n",
              "    <tr style=\"text-align: right;\">\n",
              "      <th></th>\n",
              "      <th>State</th>\n",
              "      <th>Year</th>\n",
              "      <th>Climate_Change_Disasters</th>\n",
              "      <th>Min_Temp</th>\n",
              "      <th>Max_Temp</th>\n",
              "      <th>Average_Temp</th>\n",
              "      <th>PM2.5</th>\n",
              "      <th>Health_Quotient</th>\n",
              "      <th>HDI</th>\n",
              "      <th>Rural_Poppulation</th>\n",
              "      <th>Min_Rural_CVD</th>\n",
              "      <th>Max_Rural_CVD</th>\n",
              "      <th>Urban_Poppulation</th>\n",
              "      <th>Min_Urban_CVD</th>\n",
              "      <th>Max_Urban_CVD</th>\n",
              "    </tr>\n",
              "  </thead>\n",
              "  <tbody>\n",
              "    <tr>\n",
              "      <th>0</th>\n",
              "      <td>Andhra Pradesh</td>\n",
              "      <td>2015</td>\n",
              "      <td>2</td>\n",
              "      <td>22.33</td>\n",
              "      <td>31.42</td>\n",
              "      <td>26.88</td>\n",
              "      <td>28.6</td>\n",
              "      <td>57.75</td>\n",
              "      <td>0.627</td>\n",
              "      <td>3.395143e+07</td>\n",
              "      <td>541266.571</td>\n",
              "      <td>2503357.892</td>\n",
              "      <td>1.699610e+07</td>\n",
              "      <td>169960.964</td>\n",
              "      <td>2243484.725</td>\n",
              "    </tr>\n",
              "    <tr>\n",
              "      <th>1</th>\n",
              "      <td>Andhra Pradesh</td>\n",
              "      <td>2016</td>\n",
              "      <td>2</td>\n",
              "      <td>22.33</td>\n",
              "      <td>31.50</td>\n",
              "      <td>26.92</td>\n",
              "      <td>28.9</td>\n",
              "      <td>60.16</td>\n",
              "      <td>0.633</td>\n",
              "      <td>3.425798e+07</td>\n",
              "      <td>546153.572</td>\n",
              "      <td>2525960.268</td>\n",
              "      <td>1.714955e+07</td>\n",
              "      <td>171495.512</td>\n",
              "      <td>2263740.752</td>\n",
              "    </tr>\n",
              "    <tr>\n",
              "      <th>2</th>\n",
              "      <td>Andhra Pradesh</td>\n",
              "      <td>2017</td>\n",
              "      <td>1</td>\n",
              "      <td>23.25</td>\n",
              "      <td>31.67</td>\n",
              "      <td>27.46</td>\n",
              "      <td>31.9</td>\n",
              "      <td>65.13</td>\n",
              "      <td>0.644</td>\n",
              "      <td>3.456110e+07</td>\n",
              "      <td>550986.070</td>\n",
              "      <td>2548310.572</td>\n",
              "      <td>1.730129e+07</td>\n",
              "      <td>173012.945</td>\n",
              "      <td>2283770.875</td>\n",
              "    </tr>\n",
              "    <tr>\n",
              "      <th>3</th>\n",
              "      <td>Andhra Pradesh</td>\n",
              "      <td>2018</td>\n",
              "      <td>0</td>\n",
              "      <td>24.92</td>\n",
              "      <td>36.70</td>\n",
              "      <td>30.81</td>\n",
              "      <td>31.8</td>\n",
              "      <td>64.17</td>\n",
              "      <td>0.646</td>\n",
              "      <td>3.486079e+07</td>\n",
              "      <td>555763.819</td>\n",
              "      <td>2570407.663</td>\n",
              "      <td>1.745132e+07</td>\n",
              "      <td>174513.187</td>\n",
              "      <td>2303574.070</td>\n",
              "    </tr>\n",
              "    <tr>\n",
              "      <th>4</th>\n",
              "      <td>Andhra Pradesh</td>\n",
              "      <td>2019</td>\n",
              "      <td>1</td>\n",
              "      <td>24.00</td>\n",
              "      <td>32.50</td>\n",
              "      <td>28.25</td>\n",
              "      <td>29.0</td>\n",
              "      <td>68.88</td>\n",
              "      <td>0.649</td>\n",
              "      <td>3.515703e+07</td>\n",
              "      <td>560486.623</td>\n",
              "      <td>2592250.630</td>\n",
              "      <td>1.759962e+07</td>\n",
              "      <td>175996.176</td>\n",
              "      <td>2323149.522</td>\n",
              "    </tr>\n",
              "    <tr>\n",
              "      <th>...</th>\n",
              "      <td>...</td>\n",
              "      <td>...</td>\n",
              "      <td>...</td>\n",
              "      <td>...</td>\n",
              "      <td>...</td>\n",
              "      <td>...</td>\n",
              "      <td>...</td>\n",
              "      <td>...</td>\n",
              "      <td>...</td>\n",
              "      <td>...</td>\n",
              "      <td>...</td>\n",
              "      <td>...</td>\n",
              "      <td>...</td>\n",
              "      <td>...</td>\n",
              "      <td>...</td>\n",
              "    </tr>\n",
              "    <tr>\n",
              "      <th>259</th>\n",
              "      <td>Puducherry</td>\n",
              "      <td>2018</td>\n",
              "      <td>0</td>\n",
              "      <td>26.92</td>\n",
              "      <td>31.00</td>\n",
              "      <td>28.96</td>\n",
              "      <td>29.8</td>\n",
              "      <td>49.26</td>\n",
              "      <td>0.736</td>\n",
              "      <td>4.921597e+05</td>\n",
              "      <td>7874.555</td>\n",
              "      <td>36419.819</td>\n",
              "      <td>1.061865e+06</td>\n",
              "      <td>10618.653</td>\n",
              "      <td>140166.217</td>\n",
              "    </tr>\n",
              "    <tr>\n",
              "      <th>260</th>\n",
              "      <td>Puducherry</td>\n",
              "      <td>2019</td>\n",
              "      <td>0</td>\n",
              "      <td>26.75</td>\n",
              "      <td>30.75</td>\n",
              "      <td>28.75</td>\n",
              "      <td>27.5</td>\n",
              "      <td>46.54</td>\n",
              "      <td>0.740</td>\n",
              "      <td>5.065981e+05</td>\n",
              "      <td>8105.569</td>\n",
              "      <td>37488.257</td>\n",
              "      <td>1.093017e+06</td>\n",
              "      <td>10930.169</td>\n",
              "      <td>144278.235</td>\n",
              "    </tr>\n",
              "    <tr>\n",
              "      <th>261</th>\n",
              "      <td>Puducherry</td>\n",
              "      <td>2020</td>\n",
              "      <td>1</td>\n",
              "      <td>26.00</td>\n",
              "      <td>30.50</td>\n",
              "      <td>28.25</td>\n",
              "      <td>26.1</td>\n",
              "      <td>47.48</td>\n",
              "      <td>0.743</td>\n",
              "      <td>5.211628e+05</td>\n",
              "      <td>8338.605</td>\n",
              "      <td>38566.046</td>\n",
              "      <td>1.124441e+06</td>\n",
              "      <td>11244.412</td>\n",
              "      <td>148426.240</td>\n",
              "    </tr>\n",
              "    <tr>\n",
              "      <th>262</th>\n",
              "      <td>Puducherry</td>\n",
              "      <td>2021</td>\n",
              "      <td>1</td>\n",
              "      <td>25.33</td>\n",
              "      <td>30.75</td>\n",
              "      <td>28.04</td>\n",
              "      <td>28.7</td>\n",
              "      <td>44.76</td>\n",
              "      <td>0.748</td>\n",
              "      <td>5.358466e+05</td>\n",
              "      <td>8573.545</td>\n",
              "      <td>39652.647</td>\n",
              "      <td>1.156122e+06</td>\n",
              "      <td>11561.224</td>\n",
              "      <td>152608.159</td>\n",
              "    </tr>\n",
              "    <tr>\n",
              "      <th>263</th>\n",
              "      <td>Puducherry</td>\n",
              "      <td>2022</td>\n",
              "      <td>0</td>\n",
              "      <td>25.03</td>\n",
              "      <td>30.75</td>\n",
              "      <td>27.89</td>\n",
              "      <td>37.0</td>\n",
              "      <td>42.04</td>\n",
              "      <td>0.751</td>\n",
              "      <td>5.383900e+05</td>\n",
              "      <td>8614.240</td>\n",
              "      <td>39840.860</td>\n",
              "      <td>1.161610e+06</td>\n",
              "      <td>11616.100</td>\n",
              "      <td>153332.520</td>\n",
              "    </tr>\n",
              "  </tbody>\n",
              "</table>\n",
              "<p>264 rows × 15 columns</p>\n",
              "</div>\n",
              "      <button class=\"colab-df-convert\" onclick=\"convertToInteractive('df-8353ced2-b40d-4b49-8280-abff3914e6d4')\"\n",
              "              title=\"Convert this dataframe to an interactive table.\"\n",
              "              style=\"display:none;\">\n",
              "        \n",
              "  <svg xmlns=\"http://www.w3.org/2000/svg\" height=\"24px\"viewBox=\"0 0 24 24\"\n",
              "       width=\"24px\">\n",
              "    <path d=\"M0 0h24v24H0V0z\" fill=\"none\"/>\n",
              "    <path d=\"M18.56 5.44l.94 2.06.94-2.06 2.06-.94-2.06-.94-.94-2.06-.94 2.06-2.06.94zm-11 1L8.5 8.5l.94-2.06 2.06-.94-2.06-.94L8.5 2.5l-.94 2.06-2.06.94zm10 10l.94 2.06.94-2.06 2.06-.94-2.06-.94-.94-2.06-.94 2.06-2.06.94z\"/><path d=\"M17.41 7.96l-1.37-1.37c-.4-.4-.92-.59-1.43-.59-.52 0-1.04.2-1.43.59L10.3 9.45l-7.72 7.72c-.78.78-.78 2.05 0 2.83L4 21.41c.39.39.9.59 1.41.59.51 0 1.02-.2 1.41-.59l7.78-7.78 2.81-2.81c.8-.78.8-2.07 0-2.86zM5.41 20L4 18.59l7.72-7.72 1.47 1.35L5.41 20z\"/>\n",
              "  </svg>\n",
              "      </button>\n",
              "      \n",
              "  <style>\n",
              "    .colab-df-container {\n",
              "      display:flex;\n",
              "      flex-wrap:wrap;\n",
              "      gap: 12px;\n",
              "    }\n",
              "\n",
              "    .colab-df-convert {\n",
              "      background-color: #E8F0FE;\n",
              "      border: none;\n",
              "      border-radius: 50%;\n",
              "      cursor: pointer;\n",
              "      display: none;\n",
              "      fill: #1967D2;\n",
              "      height: 32px;\n",
              "      padding: 0 0 0 0;\n",
              "      width: 32px;\n",
              "    }\n",
              "\n",
              "    .colab-df-convert:hover {\n",
              "      background-color: #E2EBFA;\n",
              "      box-shadow: 0px 1px 2px rgba(60, 64, 67, 0.3), 0px 1px 3px 1px rgba(60, 64, 67, 0.15);\n",
              "      fill: #174EA6;\n",
              "    }\n",
              "\n",
              "    [theme=dark] .colab-df-convert {\n",
              "      background-color: #3B4455;\n",
              "      fill: #D2E3FC;\n",
              "    }\n",
              "\n",
              "    [theme=dark] .colab-df-convert:hover {\n",
              "      background-color: #434B5C;\n",
              "      box-shadow: 0px 1px 3px 1px rgba(0, 0, 0, 0.15);\n",
              "      filter: drop-shadow(0px 1px 2px rgba(0, 0, 0, 0.3));\n",
              "      fill: #FFFFFF;\n",
              "    }\n",
              "  </style>\n",
              "\n",
              "      <script>\n",
              "        const buttonEl =\n",
              "          document.querySelector('#df-8353ced2-b40d-4b49-8280-abff3914e6d4 button.colab-df-convert');\n",
              "        buttonEl.style.display =\n",
              "          google.colab.kernel.accessAllowed ? 'block' : 'none';\n",
              "\n",
              "        async function convertToInteractive(key) {\n",
              "          const element = document.querySelector('#df-8353ced2-b40d-4b49-8280-abff3914e6d4');\n",
              "          const dataTable =\n",
              "            await google.colab.kernel.invokeFunction('convertToInteractive',\n",
              "                                                     [key], {});\n",
              "          if (!dataTable) return;\n",
              "\n",
              "          const docLinkHtml = 'Like what you see? Visit the ' +\n",
              "            '<a target=\"_blank\" href=https://colab.research.google.com/notebooks/data_table.ipynb>data table notebook</a>'\n",
              "            + ' to learn more about interactive tables.';\n",
              "          element.innerHTML = '';\n",
              "          dataTable['output_type'] = 'display_data';\n",
              "          await google.colab.output.renderOutput(dataTable, element);\n",
              "          const docLink = document.createElement('div');\n",
              "          docLink.innerHTML = docLinkHtml;\n",
              "          element.appendChild(docLink);\n",
              "        }\n",
              "      </script>\n",
              "    </div>\n",
              "  </div>\n",
              "  "
            ]
          },
          "metadata": {},
          "execution_count": 2
        }
      ]
    },
    {
      "cell_type": "code",
      "source": [
        "df['State'].unique()"
      ],
      "metadata": {
        "colab": {
          "base_uri": "https://localhost:8080/"
        },
        "id": "l_jj__H5PehP",
        "outputId": "08110049-e9ae-47b8-d9c2-1a34e4958b58"
      },
      "execution_count": 4,
      "outputs": [
        {
          "output_type": "execute_result",
          "data": {
            "text/plain": [
              "array(['Andhra Pradesh', 'Arunachal Pradesh', 'Assam', 'Bihar',\n",
              "       'Chhattisgarh', 'Goa', 'Gujarat', 'Haryana', 'Himachal pradesh',\n",
              "       'Jharkhand', 'Karnataka', 'Kerala', 'Madhya Pradesh',\n",
              "       'Maharashtra', 'Manipur', 'Meghalaya', 'Mizoram', 'Nagaland',\n",
              "       'Odisha', 'Punjab', 'Rajasthan', 'Sikkim', 'Tamil Nadu',\n",
              "       'Telangana', 'Tripura', 'Uttarakhand', 'Uttar Pradesh',\n",
              "       'West Bengal', 'Andaman & Nicobar islands', 'Chandigarh',\n",
              "       'Dadra & Nagar Haveli & Daman & diu', 'Jammu & Kashmir',\n",
              "       'Puducherry'], dtype=object)"
            ]
          },
          "metadata": {},
          "execution_count": 4
        }
      ]
    },
    {
      "cell_type": "code",
      "source": [
        "from sklearn.ensemble import RandomForestRegressor\n",
        "from sklearn.model_selection import train_test_split\n",
        "from sklearn.metrics import r2_score\n",
        "from sklearn.metrics import mean_squared_error\n",
        "import pandas as pd\n",
        "\n",
        "# Split the data into training and test sets\n",
        "X = df[[ 'Climate_Change_Disasters',\n",
        "       'Min_Temp', 'Max_Temp', 'PM2.5', 'Health_Quotient',\n",
        "       'HDI', 'Urban_Poppulation']]\n",
        "y = df['Max_Urban_CVD']\n",
        "\n",
        "X_train, X_test, y_train, y_test = train_test_split(X, y, test_size=0.2, random_state=42)\n",
        "\n",
        "# Train your model\n",
        "model = RandomForestRegressor(n_estimators=100, random_state=42)\n",
        "model.fit(X_train, y_train)\n"
      ],
      "metadata": {
        "colab": {
          "base_uri": "https://localhost:8080/",
          "height": 51
        },
        "id": "yYcfA6DQPaUe",
        "outputId": "f05dfb93-e2e9-48de-83ff-0bf836162882"
      },
      "execution_count": 5,
      "outputs": [
        {
          "output_type": "execute_result",
          "data": {
            "text/plain": [
              "RandomForestRegressor(random_state=42)"
            ],
            "text/html": [
              "<style>#sk-container-id-1 {color: black;background-color: white;}#sk-container-id-1 pre{padding: 0;}#sk-container-id-1 div.sk-toggleable {background-color: white;}#sk-container-id-1 label.sk-toggleable__label {cursor: pointer;display: block;width: 100%;margin-bottom: 0;padding: 0.3em;box-sizing: border-box;text-align: center;}#sk-container-id-1 label.sk-toggleable__label-arrow:before {content: \"▸\";float: left;margin-right: 0.25em;color: #696969;}#sk-container-id-1 label.sk-toggleable__label-arrow:hover:before {color: black;}#sk-container-id-1 div.sk-estimator:hover label.sk-toggleable__label-arrow:before {color: black;}#sk-container-id-1 div.sk-toggleable__content {max-height: 0;max-width: 0;overflow: hidden;text-align: left;background-color: #f0f8ff;}#sk-container-id-1 div.sk-toggleable__content pre {margin: 0.2em;color: black;border-radius: 0.25em;background-color: #f0f8ff;}#sk-container-id-1 input.sk-toggleable__control:checked~div.sk-toggleable__content {max-height: 200px;max-width: 100%;overflow: auto;}#sk-container-id-1 input.sk-toggleable__control:checked~label.sk-toggleable__label-arrow:before {content: \"▾\";}#sk-container-id-1 div.sk-estimator input.sk-toggleable__control:checked~label.sk-toggleable__label {background-color: #d4ebff;}#sk-container-id-1 div.sk-label input.sk-toggleable__control:checked~label.sk-toggleable__label {background-color: #d4ebff;}#sk-container-id-1 input.sk-hidden--visually {border: 0;clip: rect(1px 1px 1px 1px);clip: rect(1px, 1px, 1px, 1px);height: 1px;margin: -1px;overflow: hidden;padding: 0;position: absolute;width: 1px;}#sk-container-id-1 div.sk-estimator {font-family: monospace;background-color: #f0f8ff;border: 1px dotted black;border-radius: 0.25em;box-sizing: border-box;margin-bottom: 0.5em;}#sk-container-id-1 div.sk-estimator:hover {background-color: #d4ebff;}#sk-container-id-1 div.sk-parallel-item::after {content: \"\";width: 100%;border-bottom: 1px solid gray;flex-grow: 1;}#sk-container-id-1 div.sk-label:hover label.sk-toggleable__label {background-color: #d4ebff;}#sk-container-id-1 div.sk-serial::before {content: \"\";position: absolute;border-left: 1px solid gray;box-sizing: border-box;top: 0;bottom: 0;left: 50%;z-index: 0;}#sk-container-id-1 div.sk-serial {display: flex;flex-direction: column;align-items: center;background-color: white;padding-right: 0.2em;padding-left: 0.2em;position: relative;}#sk-container-id-1 div.sk-item {position: relative;z-index: 1;}#sk-container-id-1 div.sk-parallel {display: flex;align-items: stretch;justify-content: center;background-color: white;position: relative;}#sk-container-id-1 div.sk-item::before, #sk-container-id-1 div.sk-parallel-item::before {content: \"\";position: absolute;border-left: 1px solid gray;box-sizing: border-box;top: 0;bottom: 0;left: 50%;z-index: -1;}#sk-container-id-1 div.sk-parallel-item {display: flex;flex-direction: column;z-index: 1;position: relative;background-color: white;}#sk-container-id-1 div.sk-parallel-item:first-child::after {align-self: flex-end;width: 50%;}#sk-container-id-1 div.sk-parallel-item:last-child::after {align-self: flex-start;width: 50%;}#sk-container-id-1 div.sk-parallel-item:only-child::after {width: 0;}#sk-container-id-1 div.sk-dashed-wrapped {border: 1px dashed gray;margin: 0 0.4em 0.5em 0.4em;box-sizing: border-box;padding-bottom: 0.4em;background-color: white;}#sk-container-id-1 div.sk-label label {font-family: monospace;font-weight: bold;display: inline-block;line-height: 1.2em;}#sk-container-id-1 div.sk-label-container {text-align: center;}#sk-container-id-1 div.sk-container {/* jupyter's `normalize.less` sets `[hidden] { display: none; }` but bootstrap.min.css set `[hidden] { display: none !important; }` so we also need the `!important` here to be able to override the default hidden behavior on the sphinx rendered scikit-learn.org. See: https://github.com/scikit-learn/scikit-learn/issues/21755 */display: inline-block !important;position: relative;}#sk-container-id-1 div.sk-text-repr-fallback {display: none;}</style><div id=\"sk-container-id-1\" class=\"sk-top-container\"><div class=\"sk-text-repr-fallback\"><pre>RandomForestRegressor(random_state=42)</pre><b>In a Jupyter environment, please rerun this cell to show the HTML representation or trust the notebook. <br />On GitHub, the HTML representation is unable to render, please try loading this page with nbviewer.org.</b></div><div class=\"sk-container\" hidden><div class=\"sk-item\"><div class=\"sk-estimator sk-toggleable\"><input class=\"sk-toggleable__control sk-hidden--visually\" id=\"sk-estimator-id-1\" type=\"checkbox\" checked><label for=\"sk-estimator-id-1\" class=\"sk-toggleable__label sk-toggleable__label-arrow\">RandomForestRegressor</label><div class=\"sk-toggleable__content\"><pre>RandomForestRegressor(random_state=42)</pre></div></div></div></div></div>"
            ]
          },
          "metadata": {},
          "execution_count": 5
        }
      ]
    },
    {
      "cell_type": "code",
      "source": [
        "# Evaluate your model on the test data\n",
        "y_pred = model.predict(X_test)\n",
        "r2 = r2_score(y_test, y_pred)\n",
        "\n",
        "print('R^2 score:', r2)\n",
        "mse = mean_squared_error(y_test, y_pred)\n",
        "\n",
        "# Compute the number of independent variables in the model\n",
        "n = X_test.shape[0]\n",
        "p = X_test.shape[1]\n",
        "\n",
        "# Compute the adjusted R-squared score\n",
        "adjusted_r2 = 1 - ((1 - r2) * (n - 1)) / (n - p - 1)\n",
        "\n",
        "\n",
        "print('Model R-squared score:', r2)\n",
        "print('Model adjusted R-squared score:', adjusted_r2)\n"
      ],
      "metadata": {
        "colab": {
          "base_uri": "https://localhost:8080/"
        },
        "id": "RDR1TIpSRBRp",
        "outputId": "06dc9b9b-1330-416b-ab8a-ec4fb005db4a"
      },
      "execution_count": 6,
      "outputs": [
        {
          "output_type": "stream",
          "name": "stdout",
          "text": [
            "R^2 score: 0.9966990452896349\n",
            "Model R-squared score: 0.9966990452896349\n",
            "Model adjusted R-squared score: 0.9961855634458003\n"
          ]
        }
      ]
    },
    {
      "cell_type": "markdown",
      "source": [
        "Prediction of max urban cvd"
      ],
      "metadata": {
        "id": "X6JcVjSgRQUD"
      }
    },
    {
      "cell_type": "code",
      "source": [
        "dff.columns"
      ],
      "metadata": {
        "colab": {
          "base_uri": "https://localhost:8080/"
        },
        "id": "zdJUTO2pRSpx",
        "outputId": "a881abe5-860f-4a9f-edea-df550b372dd8"
      },
      "execution_count": 7,
      "outputs": [
        {
          "output_type": "execute_result",
          "data": {
            "text/plain": [
              "Index(['State', 'Climate_Change_Disasters', 'Min_Temp', 'Max_Temp', 'PM2.5',\n",
              "       'Health_Quotient', 'HDI', 'Rural_Poppulation', 'Urban_Poppulation'],\n",
              "      dtype='object')"
            ]
          },
          "metadata": {},
          "execution_count": 7
        }
      ]
    },
    {
      "cell_type": "code",
      "source": [
        "dff1=dff[[ 'Climate_Change_Disasters', 'Min_Temp', 'Max_Temp', 'PM2.5', 'Health_Quotient', 'HDI', 'Urban_Poppulation']]"
      ],
      "metadata": {
        "id": "uO1KhRgwRn9g"
      },
      "execution_count": 8,
      "outputs": []
    },
    {
      "cell_type": "code",
      "source": [
        "model.predict(dff1)"
      ],
      "metadata": {
        "colab": {
          "base_uri": "https://localhost:8080/"
        },
        "id": "uBwqZq--SEb6",
        "outputId": "1598414e-c8ee-432e-ee1b-04a97c8d5ca9"
      },
      "execution_count": 9,
      "outputs": [
        {
          "output_type": "execute_result",
          "data": {
            "text/plain": [
              "array([2372996.61811   , 2371369.99806   , 2408670.01608   ,\n",
              "         56185.27325   ,   57576.92559   ,   58628.76679   ,\n",
              "        127055.66586   ,  151150.67563   ,  217559.50012   ,\n",
              "       1915792.91192   , 2035037.96708   , 2146766.27877   ,\n",
              "       1036513.0666    , 1036875.48826   , 1045912.08745   ,\n",
              "        128137.12809   ,  128201.42442   ,  128516.21549   ,\n",
              "       4139020.73313999, 4222417.26221999, 4245339.66309   ,\n",
              "       1410490.942     , 1424743.29161   , 1430220.87881   ,\n",
              "        100962.29877   ,  100881.73326   ,  101510.2484    ,\n",
              "       1309642.35093   , 1338210.19948   , 1388914.76272   ,\n",
              "       3690099.96519   , 3782525.32231   , 3822030.74478   ,\n",
              "       2196608.75396   , 2204380.95895   , 2220551.36623   ,\n",
              "       3168915.29598   , 3227390.07641   , 3268047.36104   ,\n",
              "       7047836.36285   , 7064547.38964   , 7054427.8508    ,\n",
              "        140374.57106   ,  142132.22742   ,  145160.90099   ,\n",
              "        107480.55115   ,  107732.68699   ,  112320.6676    ,\n",
              "         95104.29483   ,   96093.62754   ,   96949.71021   ,\n",
              "         79897.40586   ,   81457.29984   ,   81859.55923   ,\n",
              "       1046324.83991   , 1050776.35005   , 1062221.76103   ,\n",
              "       1518811.00933   , 1519632.63968   , 1542718.81668   ,\n",
              "       2638938.74609   , 2720679.64294   , 2919325.81133   ,\n",
              "         22048.02665   ,   22077.88493   ,   22093.3338    ,\n",
              "       5428444.92056   , 5428444.92056   , 5441546.8251    ,\n",
              "       1764204.93682   , 1788854.97908   , 1858369.50461   ,\n",
              "        148703.63377   ,  149372.95887   ,  149976.43772   ,\n",
              "        471799.09479   ,  453627.69117   ,  452832.40373   ,\n",
              "       6920183.36884   , 6971147.6634    , 7002916.30437999,\n",
              "       4265531.33826   , 4260497.5065    , 4267064.70827   ,\n",
              "         20027.40704   ,   20027.40704   ,   20144.74795   ,\n",
              "        150716.72958   ,  150757.03412   ,  151531.32444   ,\n",
              "         63348.95461   ,   79901.92266   ,   80047.41356   ,\n",
              "        545964.49114   ,  545007.62675   ,  502070.39168   ,\n",
              "        152235.55103   ,  152300.74352   ,  152300.74352   ])"
            ]
          },
          "metadata": {},
          "execution_count": 9
        }
      ]
    },
    {
      "cell_type": "code",
      "source": [
        "arr = np.array([2372996.61811   , 2371369.99806   , 2408670.01608   ,\n",
        "         56185.27325   ,   57576.92559   ,   58628.76679   ,\n",
        "        127055.66586   ,  151150.67563   ,  217559.50012   ,\n",
        "       1915792.91192   , 2035037.96708   , 2146766.27877   ,\n",
        "       1036513.0666    , 1036875.48826   , 1045912.08745   ,\n",
        "        128137.12809   ,  128201.42442   ,  128516.21549   ,\n",
        "       4139020.73313999, 4222417.26221999, 4245339.66309   ,\n",
        "       1410490.942     , 1424743.29161   , 1430220.87881   ,\n",
        "        100962.29877   ,  100881.73326   ,  101510.2484    ,\n",
        "       1309642.35093   , 1338210.19948   , 1388914.76272   ,\n",
        "       3690099.96519   , 3782525.32231   , 3822030.74478   ,\n",
        "       2196608.75396   , 2204380.95895   , 2220551.36623   ,\n",
        "       3168915.29598   , 3227390.07641   , 3268047.36104   ,\n",
        "       7047836.36285   , 7064547.38964   , 7054427.8508    ,\n",
        "        140374.57106   ,  142132.22742   ,  145160.90099   ,\n",
        "        107480.55115   ,  107732.68699   ,  112320.6676    ,\n",
        "         95104.29483   ,   96093.62754   ,   96949.71021   ,\n",
        "         79897.40586   ,   81457.29984   ,   81859.55923   ,\n",
        "       1046324.83991   , 1050776.35005   , 1062221.76103   ,\n",
        "       1518811.00933   , 1519632.63968   , 1542718.81668   ,\n",
        "       2638938.74609   , 2720679.64294   , 2919325.81133   ,\n",
        "         22048.02665   ,   22077.88493   ,   22093.3338    ,\n",
        "       5428444.92056   , 5428444.92056   , 5441546.8251    ,\n",
        "       1764204.93682   , 1788854.97908   , 1858369.50461   ,\n",
        "        148703.63377   ,  149372.95887   ,  149976.43772   ,\n",
        "        471799.09479   ,  453627.69117   ,  452832.40373   ,\n",
        "       6920183.36884   , 6971147.6634    , 7002916.30437999,\n",
        "       4265531.33826   , 4260497.5065    , 4267064.70827   ,\n",
        "         20027.40704   ,   20027.40704   ,   20144.74795   ,\n",
        "        150716.72958   ,  150757.03412   ,  151531.32444   ,\n",
        "         63348.95461   ,   79901.92266   ,   80047.41356   ,\n",
        "        545964.49114   ,  545007.62675   ,  502070.39168   ,\n",
        "        152235.55103   ,  152300.74352   ,  152300.74352   ])"
      ],
      "metadata": {
        "id": "ROgjEDM9SJ9P"
      },
      "execution_count": 10,
      "outputs": []
    },
    {
      "cell_type": "code",
      "source": [
        "arr = np.round(arr, decimals=0)\n",
        "arr = arr.astype(int)"
      ],
      "metadata": {
        "id": "LQ9ZbXkjSToL"
      },
      "execution_count": 13,
      "outputs": []
    },
    {
      "cell_type": "code",
      "source": [
        "arr"
      ],
      "metadata": {
        "colab": {
          "base_uri": "https://localhost:8080/"
        },
        "id": "MxUSfYi_SXmg",
        "outputId": "d7cfebc8-d9a6-4b8a-de6c-570680bce894"
      },
      "execution_count": 12,
      "outputs": [
        {
          "output_type": "execute_result",
          "data": {
            "text/plain": [
              "array([2372996, 2371370, 2408670,   56185,   57576,   58628,  127055,\n",
              "        151150,  217559, 1915792, 2035037, 2146766, 1036513, 1036875,\n",
              "       1045912,  128137,  128201,  128516, 4139020, 4222417, 4245339,\n",
              "       1410490, 1424743, 1430220,  100962,  100881,  101510, 1309642,\n",
              "       1338210, 1388914, 3690099, 3782525, 3822030, 2196608, 2204380,\n",
              "       2220551, 3168915, 3227390, 3268047, 7047836, 7064547, 7054427,\n",
              "        140374,  142132,  145160,  107480,  107732,  112320,   95104,\n",
              "         96093,   96949,   79897,   81457,   81859, 1046324, 1050776,\n",
              "       1062221, 1518811, 1519632, 1542718, 2638938, 2720679, 2919325,\n",
              "         22048,   22077,   22093, 5428444, 5428444, 5441546, 1764204,\n",
              "       1788854, 1858369,  148703,  149372,  149976,  471799,  453627,\n",
              "        452832, 6920183, 6971147, 7002916, 4265531, 4260497, 4267064,\n",
              "         20027,   20027,   20144,  150716,  150757,  151531,   63348,\n",
              "         79901,   80047,  545964,  545007,  502070,  152235,  152300,\n",
              "        152300])"
            ]
          },
          "metadata": {},
          "execution_count": 12
        }
      ]
    }
  ]
}