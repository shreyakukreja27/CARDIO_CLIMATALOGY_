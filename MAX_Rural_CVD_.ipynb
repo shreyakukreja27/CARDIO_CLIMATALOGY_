{
  "cells": [
    {
      "cell_type": "markdown",
      "id": "28fc55dd",
      "metadata": {
        "id": "28fc55dd"
      },
      "source": [
        "# Model for Max Rural CVD"
      ]
    },
    {
      "cell_type": "code",
      "execution_count": 4,
      "id": "4c61568e",
      "metadata": {
        "id": "4c61568e"
      },
      "outputs": [],
      "source": [
        "import pandas as pd\n",
        "import numpy as np\n",
        "\n",
        "df=pd.read_csv(\"CVD_Data_ (1).csv\")\n",
        "dff=pd.read_excel(\"CVD_linearRegression.xlsx\")"
      ]
    },
    {
      "cell_type": "code",
      "execution_count": 5,
      "id": "a2cfc314",
      "metadata": {
        "scrolled": true,
        "colab": {
          "base_uri": "https://localhost:8080/",
          "height": 574
        },
        "id": "a2cfc314",
        "outputId": "a51a10f5-021d-4058-bb56-f2e1509ca927"
      },
      "outputs": [
        {
          "output_type": "execute_result",
          "data": {
            "text/plain": [
              "              State  Year  Climate_Change_Disasters  Min_Temp  Max_Temp  \\\n",
              "0    Andhra Pradesh  2015                         2     22.33     31.42   \n",
              "1    Andhra Pradesh  2016                         2     22.33     31.50   \n",
              "2    Andhra Pradesh  2017                         1     23.25     31.67   \n",
              "3    Andhra Pradesh  2018                         0     24.92     36.70   \n",
              "4    Andhra Pradesh  2019                         1     24.00     32.50   \n",
              "..              ...   ...                       ...       ...       ...   \n",
              "259      Puducherry  2018                         0     26.92     31.00   \n",
              "260      Puducherry  2019                         0     26.75     30.75   \n",
              "261      Puducherry  2020                         1     26.00     30.50   \n",
              "262      Puducherry  2021                         1     25.33     30.75   \n",
              "263      Puducherry  2022                         0     25.03     30.75   \n",
              "\n",
              "     Average_Temp  PM2.5  Health_Quotient    HDI  Rural_Poppulation  \\\n",
              "0           26.88   28.6            57.75  0.627       3.395143e+07   \n",
              "1           26.92   28.9            60.16  0.633       3.425798e+07   \n",
              "2           27.46   31.9            65.13  0.644       3.456110e+07   \n",
              "3           30.81   31.8            64.17  0.646       3.486079e+07   \n",
              "4           28.25   29.0            68.88  0.649       3.515703e+07   \n",
              "..            ...    ...              ...    ...                ...   \n",
              "259         28.96   29.8            49.26  0.736       4.921597e+05   \n",
              "260         28.75   27.5            46.54  0.740       5.065981e+05   \n",
              "261         28.25   26.1            47.48  0.743       5.211628e+05   \n",
              "262         28.04   28.7            44.76  0.748       5.358466e+05   \n",
              "263         27.89   37.0            42.04  0.751       5.383900e+05   \n",
              "\n",
              "     Min_Rural_CVD  Max_Rural_CVD  Urban_Poppulation  Min_Urban_CVD  \\\n",
              "0       541266.571    2503357.892       1.699610e+07     169960.964   \n",
              "1       546153.572    2525960.268       1.714955e+07     171495.512   \n",
              "2       550986.070    2548310.572       1.730129e+07     173012.945   \n",
              "3       555763.819    2570407.663       1.745132e+07     174513.187   \n",
              "4       560486.623    2592250.630       1.759962e+07     175996.176   \n",
              "..             ...            ...                ...            ...   \n",
              "259       7874.555      36419.819       1.061865e+06      10618.653   \n",
              "260       8105.569      37488.257       1.093017e+06      10930.169   \n",
              "261       8338.605      38566.046       1.124441e+06      11244.412   \n",
              "262       8573.545      39652.647       1.156122e+06      11561.224   \n",
              "263       8614.240      39840.860       1.161610e+06      11616.100   \n",
              "\n",
              "     Max_Urban_CVD  \n",
              "0      2243484.725  \n",
              "1      2263740.752  \n",
              "2      2283770.875  \n",
              "3      2303574.070  \n",
              "4      2323149.522  \n",
              "..             ...  \n",
              "259     140166.217  \n",
              "260     144278.235  \n",
              "261     148426.240  \n",
              "262     152608.159  \n",
              "263     153332.520  \n",
              "\n",
              "[264 rows x 15 columns]"
            ],
            "text/html": [
              "\n",
              "  <div id=\"df-95f86d3c-69ad-468e-a11c-64f3aaa35a3c\">\n",
              "    <div class=\"colab-df-container\">\n",
              "      <div>\n",
              "<style scoped>\n",
              "    .dataframe tbody tr th:only-of-type {\n",
              "        vertical-align: middle;\n",
              "    }\n",
              "\n",
              "    .dataframe tbody tr th {\n",
              "        vertical-align: top;\n",
              "    }\n",
              "\n",
              "    .dataframe thead th {\n",
              "        text-align: right;\n",
              "    }\n",
              "</style>\n",
              "<table border=\"1\" class=\"dataframe\">\n",
              "  <thead>\n",
              "    <tr style=\"text-align: right;\">\n",
              "      <th></th>\n",
              "      <th>State</th>\n",
              "      <th>Year</th>\n",
              "      <th>Climate_Change_Disasters</th>\n",
              "      <th>Min_Temp</th>\n",
              "      <th>Max_Temp</th>\n",
              "      <th>Average_Temp</th>\n",
              "      <th>PM2.5</th>\n",
              "      <th>Health_Quotient</th>\n",
              "      <th>HDI</th>\n",
              "      <th>Rural_Poppulation</th>\n",
              "      <th>Min_Rural_CVD</th>\n",
              "      <th>Max_Rural_CVD</th>\n",
              "      <th>Urban_Poppulation</th>\n",
              "      <th>Min_Urban_CVD</th>\n",
              "      <th>Max_Urban_CVD</th>\n",
              "    </tr>\n",
              "  </thead>\n",
              "  <tbody>\n",
              "    <tr>\n",
              "      <th>0</th>\n",
              "      <td>Andhra Pradesh</td>\n",
              "      <td>2015</td>\n",
              "      <td>2</td>\n",
              "      <td>22.33</td>\n",
              "      <td>31.42</td>\n",
              "      <td>26.88</td>\n",
              "      <td>28.6</td>\n",
              "      <td>57.75</td>\n",
              "      <td>0.627</td>\n",
              "      <td>3.395143e+07</td>\n",
              "      <td>541266.571</td>\n",
              "      <td>2503357.892</td>\n",
              "      <td>1.699610e+07</td>\n",
              "      <td>169960.964</td>\n",
              "      <td>2243484.725</td>\n",
              "    </tr>\n",
              "    <tr>\n",
              "      <th>1</th>\n",
              "      <td>Andhra Pradesh</td>\n",
              "      <td>2016</td>\n",
              "      <td>2</td>\n",
              "      <td>22.33</td>\n",
              "      <td>31.50</td>\n",
              "      <td>26.92</td>\n",
              "      <td>28.9</td>\n",
              "      <td>60.16</td>\n",
              "      <td>0.633</td>\n",
              "      <td>3.425798e+07</td>\n",
              "      <td>546153.572</td>\n",
              "      <td>2525960.268</td>\n",
              "      <td>1.714955e+07</td>\n",
              "      <td>171495.512</td>\n",
              "      <td>2263740.752</td>\n",
              "    </tr>\n",
              "    <tr>\n",
              "      <th>2</th>\n",
              "      <td>Andhra Pradesh</td>\n",
              "      <td>2017</td>\n",
              "      <td>1</td>\n",
              "      <td>23.25</td>\n",
              "      <td>31.67</td>\n",
              "      <td>27.46</td>\n",
              "      <td>31.9</td>\n",
              "      <td>65.13</td>\n",
              "      <td>0.644</td>\n",
              "      <td>3.456110e+07</td>\n",
              "      <td>550986.070</td>\n",
              "      <td>2548310.572</td>\n",
              "      <td>1.730129e+07</td>\n",
              "      <td>173012.945</td>\n",
              "      <td>2283770.875</td>\n",
              "    </tr>\n",
              "    <tr>\n",
              "      <th>3</th>\n",
              "      <td>Andhra Pradesh</td>\n",
              "      <td>2018</td>\n",
              "      <td>0</td>\n",
              "      <td>24.92</td>\n",
              "      <td>36.70</td>\n",
              "      <td>30.81</td>\n",
              "      <td>31.8</td>\n",
              "      <td>64.17</td>\n",
              "      <td>0.646</td>\n",
              "      <td>3.486079e+07</td>\n",
              "      <td>555763.819</td>\n",
              "      <td>2570407.663</td>\n",
              "      <td>1.745132e+07</td>\n",
              "      <td>174513.187</td>\n",
              "      <td>2303574.070</td>\n",
              "    </tr>\n",
              "    <tr>\n",
              "      <th>4</th>\n",
              "      <td>Andhra Pradesh</td>\n",
              "      <td>2019</td>\n",
              "      <td>1</td>\n",
              "      <td>24.00</td>\n",
              "      <td>32.50</td>\n",
              "      <td>28.25</td>\n",
              "      <td>29.0</td>\n",
              "      <td>68.88</td>\n",
              "      <td>0.649</td>\n",
              "      <td>3.515703e+07</td>\n",
              "      <td>560486.623</td>\n",
              "      <td>2592250.630</td>\n",
              "      <td>1.759962e+07</td>\n",
              "      <td>175996.176</td>\n",
              "      <td>2323149.522</td>\n",
              "    </tr>\n",
              "    <tr>\n",
              "      <th>...</th>\n",
              "      <td>...</td>\n",
              "      <td>...</td>\n",
              "      <td>...</td>\n",
              "      <td>...</td>\n",
              "      <td>...</td>\n",
              "      <td>...</td>\n",
              "      <td>...</td>\n",
              "      <td>...</td>\n",
              "      <td>...</td>\n",
              "      <td>...</td>\n",
              "      <td>...</td>\n",
              "      <td>...</td>\n",
              "      <td>...</td>\n",
              "      <td>...</td>\n",
              "      <td>...</td>\n",
              "    </tr>\n",
              "    <tr>\n",
              "      <th>259</th>\n",
              "      <td>Puducherry</td>\n",
              "      <td>2018</td>\n",
              "      <td>0</td>\n",
              "      <td>26.92</td>\n",
              "      <td>31.00</td>\n",
              "      <td>28.96</td>\n",
              "      <td>29.8</td>\n",
              "      <td>49.26</td>\n",
              "      <td>0.736</td>\n",
              "      <td>4.921597e+05</td>\n",
              "      <td>7874.555</td>\n",
              "      <td>36419.819</td>\n",
              "      <td>1.061865e+06</td>\n",
              "      <td>10618.653</td>\n",
              "      <td>140166.217</td>\n",
              "    </tr>\n",
              "    <tr>\n",
              "      <th>260</th>\n",
              "      <td>Puducherry</td>\n",
              "      <td>2019</td>\n",
              "      <td>0</td>\n",
              "      <td>26.75</td>\n",
              "      <td>30.75</td>\n",
              "      <td>28.75</td>\n",
              "      <td>27.5</td>\n",
              "      <td>46.54</td>\n",
              "      <td>0.740</td>\n",
              "      <td>5.065981e+05</td>\n",
              "      <td>8105.569</td>\n",
              "      <td>37488.257</td>\n",
              "      <td>1.093017e+06</td>\n",
              "      <td>10930.169</td>\n",
              "      <td>144278.235</td>\n",
              "    </tr>\n",
              "    <tr>\n",
              "      <th>261</th>\n",
              "      <td>Puducherry</td>\n",
              "      <td>2020</td>\n",
              "      <td>1</td>\n",
              "      <td>26.00</td>\n",
              "      <td>30.50</td>\n",
              "      <td>28.25</td>\n",
              "      <td>26.1</td>\n",
              "      <td>47.48</td>\n",
              "      <td>0.743</td>\n",
              "      <td>5.211628e+05</td>\n",
              "      <td>8338.605</td>\n",
              "      <td>38566.046</td>\n",
              "      <td>1.124441e+06</td>\n",
              "      <td>11244.412</td>\n",
              "      <td>148426.240</td>\n",
              "    </tr>\n",
              "    <tr>\n",
              "      <th>262</th>\n",
              "      <td>Puducherry</td>\n",
              "      <td>2021</td>\n",
              "      <td>1</td>\n",
              "      <td>25.33</td>\n",
              "      <td>30.75</td>\n",
              "      <td>28.04</td>\n",
              "      <td>28.7</td>\n",
              "      <td>44.76</td>\n",
              "      <td>0.748</td>\n",
              "      <td>5.358466e+05</td>\n",
              "      <td>8573.545</td>\n",
              "      <td>39652.647</td>\n",
              "      <td>1.156122e+06</td>\n",
              "      <td>11561.224</td>\n",
              "      <td>152608.159</td>\n",
              "    </tr>\n",
              "    <tr>\n",
              "      <th>263</th>\n",
              "      <td>Puducherry</td>\n",
              "      <td>2022</td>\n",
              "      <td>0</td>\n",
              "      <td>25.03</td>\n",
              "      <td>30.75</td>\n",
              "      <td>27.89</td>\n",
              "      <td>37.0</td>\n",
              "      <td>42.04</td>\n",
              "      <td>0.751</td>\n",
              "      <td>5.383900e+05</td>\n",
              "      <td>8614.240</td>\n",
              "      <td>39840.860</td>\n",
              "      <td>1.161610e+06</td>\n",
              "      <td>11616.100</td>\n",
              "      <td>153332.520</td>\n",
              "    </tr>\n",
              "  </tbody>\n",
              "</table>\n",
              "<p>264 rows × 15 columns</p>\n",
              "</div>\n",
              "      <button class=\"colab-df-convert\" onclick=\"convertToInteractive('df-95f86d3c-69ad-468e-a11c-64f3aaa35a3c')\"\n",
              "              title=\"Convert this dataframe to an interactive table.\"\n",
              "              style=\"display:none;\">\n",
              "        \n",
              "  <svg xmlns=\"http://www.w3.org/2000/svg\" height=\"24px\"viewBox=\"0 0 24 24\"\n",
              "       width=\"24px\">\n",
              "    <path d=\"M0 0h24v24H0V0z\" fill=\"none\"/>\n",
              "    <path d=\"M18.56 5.44l.94 2.06.94-2.06 2.06-.94-2.06-.94-.94-2.06-.94 2.06-2.06.94zm-11 1L8.5 8.5l.94-2.06 2.06-.94-2.06-.94L8.5 2.5l-.94 2.06-2.06.94zm10 10l.94 2.06.94-2.06 2.06-.94-2.06-.94-.94-2.06-.94 2.06-2.06.94z\"/><path d=\"M17.41 7.96l-1.37-1.37c-.4-.4-.92-.59-1.43-.59-.52 0-1.04.2-1.43.59L10.3 9.45l-7.72 7.72c-.78.78-.78 2.05 0 2.83L4 21.41c.39.39.9.59 1.41.59.51 0 1.02-.2 1.41-.59l7.78-7.78 2.81-2.81c.8-.78.8-2.07 0-2.86zM5.41 20L4 18.59l7.72-7.72 1.47 1.35L5.41 20z\"/>\n",
              "  </svg>\n",
              "      </button>\n",
              "      \n",
              "  <style>\n",
              "    .colab-df-container {\n",
              "      display:flex;\n",
              "      flex-wrap:wrap;\n",
              "      gap: 12px;\n",
              "    }\n",
              "\n",
              "    .colab-df-convert {\n",
              "      background-color: #E8F0FE;\n",
              "      border: none;\n",
              "      border-radius: 50%;\n",
              "      cursor: pointer;\n",
              "      display: none;\n",
              "      fill: #1967D2;\n",
              "      height: 32px;\n",
              "      padding: 0 0 0 0;\n",
              "      width: 32px;\n",
              "    }\n",
              "\n",
              "    .colab-df-convert:hover {\n",
              "      background-color: #E2EBFA;\n",
              "      box-shadow: 0px 1px 2px rgba(60, 64, 67, 0.3), 0px 1px 3px 1px rgba(60, 64, 67, 0.15);\n",
              "      fill: #174EA6;\n",
              "    }\n",
              "\n",
              "    [theme=dark] .colab-df-convert {\n",
              "      background-color: #3B4455;\n",
              "      fill: #D2E3FC;\n",
              "    }\n",
              "\n",
              "    [theme=dark] .colab-df-convert:hover {\n",
              "      background-color: #434B5C;\n",
              "      box-shadow: 0px 1px 3px 1px rgba(0, 0, 0, 0.15);\n",
              "      filter: drop-shadow(0px 1px 2px rgba(0, 0, 0, 0.3));\n",
              "      fill: #FFFFFF;\n",
              "    }\n",
              "  </style>\n",
              "\n",
              "      <script>\n",
              "        const buttonEl =\n",
              "          document.querySelector('#df-95f86d3c-69ad-468e-a11c-64f3aaa35a3c button.colab-df-convert');\n",
              "        buttonEl.style.display =\n",
              "          google.colab.kernel.accessAllowed ? 'block' : 'none';\n",
              "\n",
              "        async function convertToInteractive(key) {\n",
              "          const element = document.querySelector('#df-95f86d3c-69ad-468e-a11c-64f3aaa35a3c');\n",
              "          const dataTable =\n",
              "            await google.colab.kernel.invokeFunction('convertToInteractive',\n",
              "                                                     [key], {});\n",
              "          if (!dataTable) return;\n",
              "\n",
              "          const docLinkHtml = 'Like what you see? Visit the ' +\n",
              "            '<a target=\"_blank\" href=https://colab.research.google.com/notebooks/data_table.ipynb>data table notebook</a>'\n",
              "            + ' to learn more about interactive tables.';\n",
              "          element.innerHTML = '';\n",
              "          dataTable['output_type'] = 'display_data';\n",
              "          await google.colab.output.renderOutput(dataTable, element);\n",
              "          const docLink = document.createElement('div');\n",
              "          docLink.innerHTML = docLinkHtml;\n",
              "          element.appendChild(docLink);\n",
              "        }\n",
              "      </script>\n",
              "    </div>\n",
              "  </div>\n",
              "  "
            ]
          },
          "metadata": {},
          "execution_count": 5
        }
      ],
      "source": [
        "df.dropna()"
      ]
    },
    {
      "cell_type": "code",
      "execution_count": 6,
      "id": "fa385430",
      "metadata": {
        "colab": {
          "base_uri": "https://localhost:8080/"
        },
        "id": "fa385430",
        "outputId": "d9859646-3453-4400-8063-579815492f64"
      },
      "outputs": [
        {
          "output_type": "execute_result",
          "data": {
            "text/plain": [
              "array(['Andhra Pradesh', 'Arunachal Pradesh', 'Assam', 'Bihar',\n",
              "       'Chhattisgarh', 'Goa', 'Gujarat', 'Haryana', 'Himachal pradesh',\n",
              "       'Jharkhand', 'Karnataka', 'Kerala', 'Madhya Pradesh',\n",
              "       'Maharashtra', 'Manipur', 'Meghalaya', 'Mizoram', 'Nagaland',\n",
              "       'Odisha', 'Punjab', 'Rajasthan', 'Sikkim', 'Tamil Nadu',\n",
              "       'Telangana', 'Tripura', 'Uttarakhand', 'Uttar Pradesh',\n",
              "       'West Bengal', 'Andaman & Nicobar islands', 'Chandigarh',\n",
              "       'Dadra & Nagar Haveli & Daman & diu', 'Jammu & Kashmir',\n",
              "       'Puducherry'], dtype=object)"
            ]
          },
          "metadata": {},
          "execution_count": 6
        }
      ],
      "source": [
        "df['State'].unique()"
      ]
    },
    {
      "cell_type": "code",
      "execution_count": 7,
      "id": "3bfe688c",
      "metadata": {
        "colab": {
          "base_uri": "https://localhost:8080/"
        },
        "id": "3bfe688c",
        "outputId": "5df97563-1204-47d8-e8e5-16981aab8548"
      },
      "outputs": [
        {
          "output_type": "stream",
          "name": "stdout",
          "text": [
            "R^2 score: 0.996376547235145\n",
            "Model R-squared score: 0.996376547235145\n",
            "Model adjusted R-squared score: 0.9958128990272787\n"
          ]
        }
      ],
      "source": [
        "from sklearn.ensemble import RandomForestRegressor\n",
        "from sklearn.model_selection import train_test_split\n",
        "from sklearn.metrics import r2_score\n",
        "from sklearn.metrics import mean_squared_error\n",
        "import pandas as pd\n",
        "\n",
        "# Split the data into training and test sets\n",
        "X = df[[ 'Climate_Change_Disasters',\n",
        "       'Min_Temp', 'Max_Temp', 'PM2.5', 'Health_Quotient',\n",
        "       'HDI', 'Rural_Poppulation']]\n",
        "y = df['Max_Rural_CVD']\n",
        "\n",
        "X_train, X_test, y_train, y_test = train_test_split(X, y, test_size=0.2, random_state=42)\n",
        "\n",
        "# Train your model\n",
        "model = RandomForestRegressor(n_estimators=100, random_state=42)\n",
        "model.fit(X_train, y_train)\n",
        "\n",
        "# Evaluate your model on the test data\n",
        "y_pred = model.predict(X_test)\n",
        "r2 = r2_score(y_test, y_pred)\n",
        "\n",
        "print('R^2 score:', r2)\n",
        "mse = mean_squared_error(y_test, y_pred)\n",
        "\n",
        "# Compute the number of independent variables in the model\n",
        "n = X_test.shape[0]\n",
        "p = X_test.shape[1]\n",
        "\n",
        "# Compute the adjusted R-squared score\n",
        "adjusted_r2 = 1 - ((1 - r2) * (n - 1)) / (n - p - 1)\n",
        "\n",
        "\n",
        "print('Model R-squared score:', r2)\n",
        "print('Model adjusted R-squared score:', adjusted_r2)\n"
      ]
    },
    {
      "cell_type": "code",
      "execution_count": 8,
      "id": "9d787818",
      "metadata": {
        "colab": {
          "base_uri": "https://localhost:8080/"
        },
        "id": "9d787818",
        "outputId": "9b766d72-0ab5-4fb9-b2f8-2f68242a6192"
      },
      "outputs": [
        {
          "output_type": "execute_result",
          "data": {
            "text/plain": [
              "0.998634778001987"
            ]
          },
          "metadata": {},
          "execution_count": 8
        }
      ],
      "source": [
        "model.score(X_train, y_train)"
      ]
    },
    {
      "cell_type": "code",
      "execution_count": 9,
      "id": "342b9e00",
      "metadata": {
        "colab": {
          "base_uri": "https://localhost:8080/"
        },
        "id": "342b9e00",
        "outputId": "0c8b4d93-e118-4d1c-9c6e-ebc4053c12a4"
      },
      "outputs": [
        {
          "output_type": "execute_result",
          "data": {
            "text/plain": [
              "0.996376547235145"
            ]
          },
          "metadata": {},
          "execution_count": 9
        }
      ],
      "source": [
        "model.score(X_test, y_test)"
      ]
    },
    {
      "cell_type": "code",
      "execution_count": 10,
      "id": "5317f9cc",
      "metadata": {
        "colab": {
          "base_uri": "https://localhost:8080/"
        },
        "id": "5317f9cc",
        "outputId": "ce4c2a81-5a22-4e8d-b8bd-9fa46b0e58b7"
      },
      "outputs": [
        {
          "output_type": "execute_result",
          "data": {
            "text/plain": [
              "Index(['Climate_Change_Disasters', 'Min_Temp', 'Max_Temp', 'PM2.5',\n",
              "       'Health_Quotient', 'HDI', 'Rural_Poppulation'],\n",
              "      dtype='object')"
            ]
          },
          "metadata": {},
          "execution_count": 10
        }
      ],
      "source": [
        "X_test.columns"
      ]
    },
    {
      "cell_type": "markdown",
      "id": "f4baa1a8",
      "metadata": {
        "id": "f4baa1a8"
      },
      "source": [
        "## Prediction on MAX CVD Rural"
      ]
    },
    {
      "cell_type": "code",
      "execution_count": 11,
      "id": "15f3de1f",
      "metadata": {
        "colab": {
          "base_uri": "https://localhost:8080/"
        },
        "id": "15f3de1f",
        "outputId": "adeec111-9efb-4537-8415-4d2c64b17117"
      },
      "outputs": [
        {
          "output_type": "execute_result",
          "data": {
            "text/plain": [
              "Index(['State', 'Climate_Change_Disasters', 'Min_Temp', 'Max_Temp', 'PM2.5',\n",
              "       'Health_Quotient', 'HDI', 'Rural_Poppulation', 'Urban_Poppulation'],\n",
              "      dtype='object')"
            ]
          },
          "metadata": {},
          "execution_count": 11
        }
      ],
      "source": [
        "dff.columns"
      ]
    },
    {
      "cell_type": "code",
      "execution_count": 12,
      "id": "54638055",
      "metadata": {
        "id": "54638055"
      },
      "outputs": [],
      "source": [
        "dff1=dff[[ 'Climate_Change_Disasters', 'Min_Temp', 'Max_Temp', 'PM2.5', 'Health_Quotient', 'HDI', 'Rural_Poppulation']]"
      ]
    },
    {
      "cell_type": "code",
      "execution_count": 13,
      "id": "dc5181be",
      "metadata": {
        "colab": {
          "base_uri": "https://localhost:8080/"
        },
        "id": "dc5181be",
        "outputId": "f0c09bb0-9624-494d-ddca-af6cbff03907"
      },
      "outputs": [
        {
          "output_type": "execute_result",
          "data": {
            "text/plain": [
              "array([2.69635828e+06, 2.74371590e+06, 2.77964059e+06, 1.04515695e+05,\n",
              "       1.05162661e+05, 1.05990439e+05, 2.34744131e+06, 2.38877219e+06,\n",
              "       2.52154185e+06, 9.23077889e+06, 9.32787207e+06, 9.74974375e+06,\n",
              "       1.87521280e+06, 1.93323900e+06, 2.00500027e+06, 4.13299564e+04,\n",
              "       4.14593253e+04, 4.21895200e+04, 3.10887784e+06, 3.14820641e+06,\n",
              "       3.18643012e+06, 1.46888085e+06, 1.47764597e+06, 1.47897851e+06,\n",
              "       5.04018554e+05, 5.04705166e+05, 5.05428469e+05, 2.30687247e+06,\n",
              "       2.34936251e+06, 2.45568725e+06, 3.20971498e+06, 3.21369567e+06,\n",
              "       3.22005122e+06, 1.37598825e+06, 1.37815076e+06, 1.38000364e+06,\n",
              "       4.71658904e+06, 4.74723582e+06, 4.79693287e+06, 5.13750948e+06,\n",
              "       5.13802194e+06, 5.13802194e+06, 1.90901157e+05, 1.92796080e+05,\n",
              "       1.95325605e+05, 2.28701490e+05, 2.28851229e+05, 2.28851229e+05,\n",
              "       4.63353570e+04, 4.64562859e+04, 4.64229860e+04, 1.05290062e+05,\n",
              "       1.05415891e+05, 1.05415891e+05, 2.99122490e+06, 3.02900261e+06,\n",
              "       3.05143641e+06, 1.48278978e+06, 1.48263144e+06, 1.48389085e+06,\n",
              "       4.56994921e+06, 4.68818297e+06, 4.69240542e+06, 3.82956618e+04,\n",
              "       3.86570532e+04, 3.91454566e+04, 3.23142905e+06, 3.23142905e+06,\n",
              "       3.23227714e+06, 1.86826057e+06, 1.92882262e+06, 1.97678609e+06,\n",
              "       2.31649514e+05, 2.28268038e+05, 2.19946190e+05, 5.83131463e+05,\n",
              "       5.86932576e+05, 5.86684195e+05, 1.31813277e+07, 1.31911045e+07,\n",
              "       1.31655496e+07, 5.30918241e+06, 5.31759236e+06, 5.31544256e+06,\n",
              "       1.81193551e+04, 1.72074141e+04, 1.70883212e+04, 2.35390153e+03,\n",
              "       2.35390153e+03, 2.35390153e+03, 1.68413250e+04, 1.68150743e+04,\n",
              "       1.87289979e+04, 8.23224287e+05, 8.22710250e+05, 8.23129010e+05,\n",
              "       3.95308443e+04, 3.96751496e+04, 4.14451053e+04])"
            ]
          },
          "metadata": {},
          "execution_count": 13
        }
      ],
      "source": [
        "model.predict(dff1)"
      ]
    },
    {
      "cell_type": "code",
      "execution_count": 14,
      "id": "fbb48136",
      "metadata": {
        "colab": {
          "base_uri": "https://localhost:8080/"
        },
        "id": "fbb48136",
        "outputId": "7040f909-7419-4b44-9bde-e24ef2b049ac"
      },
      "outputs": [
        {
          "output_type": "execute_result",
          "data": {
            "text/plain": [
              "array(['Andhra Pradesh', 'Arunachal Pradesh', 'Assam', 'Bihar',\n",
              "       'Chhattisgarh', 'Goa', 'Gujarat', 'Haryana', 'Himachal pradesh',\n",
              "       'Jharkhand', 'Karnataka', 'Kerala', 'Madhya Pradesh',\n",
              "       'Maharashtra', 'Manipur', 'Meghalaya', 'Mizoram', 'Nagaland',\n",
              "       'Odisha', 'Punjab', 'Rajasthan', 'Sikkim', 'Tamil Nadu',\n",
              "       'Telangana', 'Tripura', 'Uttarakhand', 'Uttar Pradesh',\n",
              "       'West Bengal', 'Andaman & Nicobar islands', 'Chandigarh',\n",
              "       'Dadra & Nagar Haveli & Daman & diu', 'Jammu & Kashmir',\n",
              "       'Puducherry'], dtype=object)"
            ]
          },
          "metadata": {},
          "execution_count": 14
        }
      ],
      "source": [
        "df['State'].unique()"
      ]
    },
    {
      "cell_type": "code",
      "execution_count": 15,
      "id": "893796dd",
      "metadata": {
        "id": "893796dd"
      },
      "outputs": [],
      "source": [
        "arr = np.array([2.69635828e+06, 2.74371590e+06, 2.77964059e+06, 1.04515695e+05,\n",
        "       1.05162661e+05, 1.05990439e+05, 2.34744131e+06, 2.38877219e+06,\n",
        "       2.52154185e+06, 9.23077889e+06, 9.32787207e+06, 9.74974375e+06,\n",
        "       1.87521280e+06, 1.93323900e+06, 2.00500027e+06, 4.13299564e+04,\n",
        "       4.14593253e+04, 4.21895200e+04, 3.10887784e+06, 3.14820641e+06,\n",
        "       3.18643012e+06, 1.46888085e+06, 1.47764597e+06, 1.47897851e+06,\n",
        "       5.04018554e+05, 5.04705166e+05, 5.05428469e+05, 2.30687247e+06,\n",
        "       2.34936251e+06, 2.45568725e+06, 3.20971498e+06, 3.21369567e+06,\n",
        "       3.22005122e+06, 1.37598825e+06, 1.37815076e+06, 1.38000364e+06,\n",
        "       4.71658904e+06, 4.74723582e+06, 4.79693287e+06, 5.13750948e+06,\n",
        "       5.13802194e+06, 5.13802194e+06, 1.90901157e+05, 1.92796080e+05,\n",
        "       1.95325605e+05, 2.28701490e+05, 2.28851229e+05, 2.28851229e+05,\n",
        "       4.63353570e+04, 4.64562859e+04, 4.64229860e+04, 1.05290062e+05,\n",
        "       1.05415891e+05, 1.05415891e+05, 2.99122490e+06, 3.02900261e+06,\n",
        "       3.05143641e+06, 1.48278978e+06, 1.48263144e+06, 1.48389085e+06,\n",
        "       4.56994921e+06, 4.68818297e+06, 4.69240542e+06, 3.82956618e+04,\n",
        "       3.86570532e+04, 3.91454566e+04, 3.23142905e+06, 3.23142905e+06,\n",
        "       3.23227714e+06, 1.86826057e+06, 1.92882262e+06, 1.97678609e+06,\n",
        "       2.31649514e+05, 2.28268038e+05, 2.19946190e+05, 5.83131463e+05,\n",
        "       5.86932576e+05, 5.86684195e+05, 1.31813277e+07, 1.31911045e+07,\n",
        "       1.31655496e+07, 5.30918241e+06, 5.31759236e+06, 5.31544256e+06,\n",
        "       1.81193551e+04, 1.72074141e+04, 1.70883212e+04, 2.35390153e+03,\n",
        "       2.35390153e+03, 2.35390153e+03, 1.68413250e+04, 1.68150743e+04,\n",
        "       1.87289979e+04, 8.23224287e+05, 8.22710250e+05, 8.23129010e+05,\n",
        "       3.95308443e+04, 3.96751496e+04, 4.14451053e+04])"
      ]
    },
    {
      "cell_type": "code",
      "source": [
        "arr = np.round(arr, decimals=0)\n",
        "arr = arr.astype(int)"
      ],
      "metadata": {
        "id": "K-UZPPjMPaGN"
      },
      "id": "K-UZPPjMPaGN",
      "execution_count": 16,
      "outputs": []
    },
    {
      "cell_type": "code",
      "source": [
        "arr"
      ],
      "metadata": {
        "id": "wGy7yhsCPev_",
        "outputId": "5300253a-04ee-4c58-96f7-c5a9a415c4a0",
        "colab": {
          "base_uri": "https://localhost:8080/"
        }
      },
      "id": "wGy7yhsCPev_",
      "execution_count": 17,
      "outputs": [
        {
          "output_type": "execute_result",
          "data": {
            "text/plain": [
              "array([ 2696358,  2743716,  2779641,   104516,   105163,   105990,\n",
              "        2347441,  2388772,  2521542,  9230779,  9327872,  9749744,\n",
              "        1875213,  1933239,  2005000,    41330,    41459,    42190,\n",
              "        3108878,  3148206,  3186430,  1468881,  1477646,  1478979,\n",
              "         504019,   504705,   505428,  2306872,  2349363,  2455687,\n",
              "        3209715,  3213696,  3220051,  1375988,  1378151,  1380004,\n",
              "        4716589,  4747236,  4796933,  5137509,  5138022,  5138022,\n",
              "         190901,   192796,   195326,   228701,   228851,   228851,\n",
              "          46335,    46456,    46423,   105290,   105416,   105416,\n",
              "        2991225,  3029003,  3051436,  1482790,  1482631,  1483891,\n",
              "        4569949,  4688183,  4692405,    38296,    38657,    39145,\n",
              "        3231429,  3231429,  3232277,  1868261,  1928823,  1976786,\n",
              "         231650,   228268,   219946,   583131,   586933,   586684,\n",
              "       13181328, 13191104, 13165550,  5309182,  5317592,  5315443,\n",
              "          18119,    17207,    17088,     2354,     2354,     2354,\n",
              "          16841,    16815,    18729,   823224,   822710,   823129,\n",
              "          39531,    39675,    41445])"
            ]
          },
          "metadata": {},
          "execution_count": 17
        }
      ]
    }
  ],
  "metadata": {
    "kernelspec": {
      "display_name": "Python 3 (ipykernel)",
      "language": "python",
      "name": "python3"
    },
    "language_info": {
      "codemirror_mode": {
        "name": "ipython",
        "version": 3
      },
      "file_extension": ".py",
      "mimetype": "text/x-python",
      "name": "python",
      "nbconvert_exporter": "python",
      "pygments_lexer": "ipython3",
      "version": "3.9.13"
    },
    "colab": {
      "provenance": []
    }
  },
  "nbformat": 4,
  "nbformat_minor": 5
}